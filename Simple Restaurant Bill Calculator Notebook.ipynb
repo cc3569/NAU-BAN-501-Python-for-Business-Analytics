{
  "nbformat": 4,
  "nbformat_minor": 0,
  "metadata": {
    "colab": {
      "provenance": [],
      "authorship_tag": "ABX9TyMov60t99aOKAV/mFRx6k3b"
    },
    "kernelspec": {
      "name": "python3",
      "display_name": "Python 3"
    },
    "language_info": {
      "name": "python"
    }
  },
  "cells": [
    {
      "cell_type": "markdown",
      "source": [
        "**Module 1 In-Class Project Assignment - Simple Restaurant Bill Calculator**\n",
        "\n",
        "Cole T. Catron\n",
        "\n",
        "NAU - The W.A. Franke College of Business\n",
        "\n",
        "Dr. Martin Hassell\n",
        "\n",
        "September 4, 2024"
      ],
      "metadata": {
        "id": "fx_xWYn4Hpmf"
      }
    },
    {
      "cell_type": "code",
      "execution_count": null,
      "metadata": {
        "colab": {
          "base_uri": "https://localhost:8080/"
        },
        "id": "7V6_-e22HobK",
        "outputId": "19491283-8a12-4496-baf6-ad127e8a1caf"
      },
      "outputs": [
        {
          "output_type": "stream",
          "name": "stdout",
          "text": [
            "Hello! Welcome to Simple Restaurant. The menu is provided below.\n",
            "\n",
            "MENU (Prices in U.S. Dollars)\n",
            "Pizza $10.00\n",
            "Salad $7.50\n",
            "Drink $2.00\n",
            "\n",
            "How Many Pizzas Would You Like? 20\n",
            "How Many Salads Would You Like? 20\n",
            "How Many Drinks Would You Like? 20\n",
            "\n",
            "BILL\n",
            "Subtotal: $390.00\n",
            "Tax: $35.81\n",
            "Service Fee: $19.50\n",
            "Total: $445.31\n",
            "\n",
            "Thank You For Dining at Simple Restaurant!\n"
          ]
        }
      ],
      "source": [
        "#Dictionary with menu items as keys and unit prices as values\n",
        "menu_items = {\n",
        "    \"Pizza\": 10.00,\n",
        "    \"Salad\": 7.50,\n",
        "    \"Drink\": 2.00\n",
        "}\n",
        "\n",
        "#Flagstaff sales tax rate of 9.181%\n",
        "tax_rate = 0.09181\n",
        "#5% restaurant service fee\n",
        "service_fee = 0.05\n",
        "#Initialize subtotal variable\n",
        "subtotal = 0.00\n",
        "\n",
        "#Greeting to customer\n",
        "print(\"Hello! Welcome to Simple Restaurant. The menu is provided below.\")\n",
        "print(\"\\n\" + \"MENU (Prices in U.S. Dollars)\")\n",
        "\n",
        "#For loop used to iterate through menu items. Displays full menu\n",
        "for key, items in menu_items.items():\n",
        "  print(key, \"$\" + format(items, \".2f\"))\n",
        "print(\"\")\n",
        "\n",
        "#For loop used to iterate through menu items. Prompts user for quantities\n",
        "#per menu item. Calculates a running total for quantity inputs. Stores total\n",
        "#in subtotal variable\n",
        "for food, price in menu_items.items():\n",
        "  quantity = int(input(f\"How Many {food}s Would You Like? \"))\n",
        "  running_total = quantity * price\n",
        "  subtotal += running_total\n",
        "\n",
        "#Calculation of total taxes\n",
        "tax = subtotal * tax_rate\n",
        "#Calculation of service fees\n",
        "service = subtotal * service_fee\n",
        "#Calculation of grand bill total\n",
        "total_amt = subtotal + tax + service\n",
        "\n",
        "#Prints bill\n",
        "print(\"\\nBILL\")\n",
        "print(f\"Subtotal: ${subtotal:.2f}\")\n",
        "print(f\"Tax: ${tax:.2f}\")\n",
        "print(f\"Service Fee: ${service:.2f}\")\n",
        "print(f\"Total: ${total_amt:.2f}\")\n",
        "\n",
        "print(\"\\nThank You For Dining at Simple Restaurant!\")"
      ]
    }
  ]
}